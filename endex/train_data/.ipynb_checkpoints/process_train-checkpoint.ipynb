{
 "cells": [
  {
   "cell_type": "markdown",
   "id": "40ba1d03",
   "metadata": {},
   "source": [
    "# Current best data splits"
   ]
  },
  {
   "cell_type": "code",
   "execution_count": null,
   "id": "23b04ded",
   "metadata": {},
   "outputs": [],
   "source": [
    "#batch1\n",
    "# ../may30_data/norm_z_june20_36k_cgo_3_3_1_2.csv\n",
    "\n",
    "#batch2\n",
    "# ../batch2/norm_z_june21_32k_cgo_3_3_1_1.csv\n",
    "\n"
   ]
  },
  {
   "cell_type": "markdown",
   "id": "882210e4",
   "metadata": {},
   "source": [
    "# Data Split V2"
   ]
  },
  {
   "cell_type": "code",
   "execution_count": null,
   "id": "8c193a63",
   "metadata": {
    "scrolled": true
   },
   "outputs": [],
   "source": [
    "import pandas as pd\n",
    "df1 = pd.read_csv('../../may30_data/norm_z_june20_36k_cgo_3_3_1_2.csv')"
   ]
  },
  {
   "cell_type": "code",
   "execution_count": null,
   "id": "48e81aa2",
   "metadata": {
    "scrolled": true
   },
   "outputs": [],
   "source": [
    "\n",
    "df2 = pd.read_csv('../../batch2/norm_z_june21_32k_cgo_3_3_1_1.csv')"
   ]
  },
  {
   "cell_type": "code",
   "execution_count": null,
   "id": "3ff22d0f",
   "metadata": {
    "scrolled": true
   },
   "outputs": [],
   "source": [
    "final = pd.concat([df1,df2])"
   ]
  },
  {
   "cell_type": "code",
   "execution_count": null,
   "id": "286d4d83",
   "metadata": {},
   "outputs": [],
   "source": [
    "final.to_csv('final_v2_68k.csv', index = None)"
   ]
  },
  {
   "cell_type": "code",
   "execution_count": null,
   "id": "a632fc50",
   "metadata": {},
   "outputs": [],
   "source": [
    "!pwd"
   ]
  },
  {
   "cell_type": "code",
   "execution_count": null,
   "id": "b9f7d56c",
   "metadata": {},
   "outputs": [],
   "source": []
  },
  {
   "cell_type": "markdown",
   "id": "a41fef7b",
   "metadata": {},
   "source": [
    "# Get data for batch1"
   ]
  },
  {
   "cell_type": "code",
   "execution_count": null,
   "id": "522d11e0",
   "metadata": {
    "scrolled": true
   },
   "outputs": [],
   "source": [
    "import pandas as pd\n",
    "df = pd.read_csv('../../current_2_3M_data_jpt.csv')\n",
    "df"
   ]
  },
  {
   "cell_type": "code",
   "execution_count": null,
   "id": "6d518d0c",
   "metadata": {},
   "outputs": [],
   "source": [
    "from scipy import stats\n",
    "import numpy as np\n",
    "def zscore(ls):\n",
    "    ls = list(ls)\n",
    "    return stats.zscore(np.array(ls))\n"
   ]
  },
  {
   "cell_type": "code",
   "execution_count": null,
   "id": "83252614",
   "metadata": {
    "scrolled": true
   },
   "outputs": [],
   "source": [
    "import numpy as np\n",
    "def num_scoring(df):\n",
    "    re,ae,be,ee = df['RE'],df['AE'],df['BE'],df['EE']\n",
    "    re = np.array(re)\n",
    "    ae = np.array(ae)\n",
    "    be = np.array(be)\n",
    "    ee = np.array(ee)\n",
    "    \n",
    "#     w1,w2,w3,w4 = 3/8,1.5/8,2.5/8,1/8\n",
    "    w1,w2,w3,w4 = 3/9,3/9,1/8,2/9\n",
    "    #w1,w2,w3,w4 should add up to 1\n",
    "    score = w1*re + w2*ae + w3*be + w4*ee\n",
    "    return score\n",
    "\n",
    "\n",
    "df['num_score'] = num_scoring(df)\n",
    "df = df.dropna(subset=['num_score'])\n",
    "\n",
    "df['zEE'] = zscore(df['EE'])\n",
    "df['zRE'] = zscore(df['RE'])\n",
    "df['zAE'] = zscore(df['AE'])\n",
    "df['zBE'] = zscore(df['BE'])\n",
    "\n",
    "\n",
    "df['norm_z'] = zscore(df['num_score'])\n",
    "df"
   ]
  },
  {
   "cell_type": "code",
   "execution_count": null,
   "id": "b2077bf1",
   "metadata": {},
   "outputs": [],
   "source": [
    "batch1 = df.copy()"
   ]
  },
  {
   "cell_type": "code",
   "execution_count": null,
   "id": "b31eef70",
   "metadata": {},
   "outputs": [],
   "source": [
    "import matplotlib.pyplot as plt\n",
    "import numpy as np\n",
    "%matplotlib inline\n",
    "plt.rcParams.update({'figure.figsize':(7,5), 'figure.dpi':100})\n",
    "\n",
    "# Plot Histogram on x\n",
    "x = np.array(batch1['norm_z'])\n",
    "plt.hist(x, bins=50)\n",
    "plt.gca().set(title='Frequency Histogram', ylabel='Frequency');"
   ]
  },
  {
   "cell_type": "code",
   "execution_count": null,
   "id": "cbabff9f",
   "metadata": {},
   "outputs": [],
   "source": [
    "batch1.to_csv('../../may30_data/norm_z_june20_36k_cgo_3_3_1_2.csv',index=None)"
   ]
  },
  {
   "cell_type": "code",
   "execution_count": null,
   "id": "5d517fb2",
   "metadata": {},
   "outputs": [],
   "source": [
    "import pandas as pd\n",
    "batch1 = pd.read_csv('../../may30_data/norm_z_june20_36k_cgo_3_3_1_2.csv')"
   ]
  },
  {
   "cell_type": "markdown",
   "id": "4e716a0d",
   "metadata": {},
   "source": [
    "# Get data for batch2"
   ]
  },
  {
   "cell_type": "code",
   "execution_count": null,
   "id": "a69bdd48",
   "metadata": {
    "scrolled": true
   },
   "outputs": [],
   "source": [
    "import pandas as pd\n",
    "batch2 = pd.read_csv('../../batch2/raw_engage_child.csv')\n",
    "batch2"
   ]
  },
  {
   "cell_type": "code",
   "execution_count": null,
   "id": "1170a02a",
   "metadata": {
    "scrolled": true
   },
   "outputs": [],
   "source": [
    "df = pd.concat([batch1,batch2])\n",
    "df"
   ]
  },
  {
   "cell_type": "code",
   "execution_count": null,
   "id": "8683156c",
   "metadata": {},
   "outputs": [],
   "source": [
    "df.to_csv('total_raw_560k.csv',index=None)"
   ]
  },
  {
   "cell_type": "code",
   "execution_count": null,
   "id": "89062d43",
   "metadata": {
    "scrolled": false
   },
   "outputs": [],
   "source": [
    "total = pd.read_csv('total_raw_560k.csv')\n"
   ]
  },
  {
   "cell_type": "code",
   "execution_count": null,
   "id": "ce6fff1c",
   "metadata": {},
   "outputs": [],
   "source": [
    "total[total['norm_z']<-1.3].shape"
   ]
  },
  {
   "cell_type": "code",
   "execution_count": null,
   "id": "fed48435",
   "metadata": {},
   "outputs": [],
   "source": []
  },
  {
   "cell_type": "markdown",
   "id": "ee170ef5",
   "metadata": {},
   "source": [
    "# curate the total nogetive samples here"
   ]
  },
  {
   "cell_type": "code",
   "execution_count": null,
   "id": "68ff5f69",
   "metadata": {
    "scrolled": true
   },
   "outputs": [],
   "source": [
    "norep2 = pd.read_csv('../../batch2/raw_nonengage_confidence_30k.csv')\n",
    "norep2"
   ]
  },
  {
   "cell_type": "code",
   "execution_count": null,
   "id": "9a7c82a7",
   "metadata": {
    "scrolled": true
   },
   "outputs": [],
   "source": [
    "\n",
    "norep1 = pd.read_csv('../../may30_data/clean_norep_20k_tmp.csv')\n",
    "norep1"
   ]
  },
  {
   "cell_type": "code",
   "execution_count": null,
   "id": "f5608de3",
   "metadata": {},
   "outputs": [],
   "source": []
  },
  {
   "cell_type": "code",
   "execution_count": null,
   "id": "92a9c07c",
   "metadata": {
    "scrolled": true
   },
   "outputs": [],
   "source": [
    "norep = pd.concat([norep1,norep2])\n",
    "norep.shape\n",
    "# norep.to_csv('total_norep_47k.csv',index=None)"
   ]
  },
  {
   "cell_type": "code",
   "execution_count": null,
   "id": "3f4cee4f",
   "metadata": {},
   "outputs": [],
   "source": [
    "ns = pd.read_csv('negative_sampling20k.csv')\n",
    "ns = ns.sample(frac=1)\n",
    "ns = ns.sample(frac=1)\n",
    "ns = ns.sample(frac=1)\n",
    "ns = ns.sample(frac=1)\n",
    "ns = ns.sample(frac=1)\n",
    "ns = ns.sample(frac=1)\n"
   ]
  },
  {
   "cell_type": "markdown",
   "id": "b9c5a482",
   "metadata": {},
   "source": [
    "# curate the entire data splits"
   ]
  },
  {
   "cell_type": "code",
   "execution_count": null,
   "id": "1f608039",
   "metadata": {},
   "outputs": [],
   "source": [
    "df.shape"
   ]
  },
  {
   "cell_type": "code",
   "execution_count": null,
   "id": "b5c06dc1",
   "metadata": {
    "scrolled": true
   },
   "outputs": [],
   "source": [
    "norep.shape"
   ]
  },
  {
   "cell_type": "code",
   "execution_count": null,
   "id": "aa45cf76",
   "metadata": {},
   "outputs": [],
   "source": [
    "import numpy as np\n",
    "def convert_raw_to_std(df,label=0):\n",
    "    text_a = list(df['Grandparent_body'])\n",
    "    text_b = list(df['Parent_body'])\n",
    "    RE = list(df['RE'])\n",
    "    AR = list(df['AE'])\n",
    "    BE = list(df['BE'])\n",
    "    EE = list(df['EE'])\n",
    "    num_score = list(df['num_score'])\n",
    "    labels = [label]*df.shape[0]\n",
    "    \n",
    "    columns = ['text_a','text_b','RE','AR','BE','EE','num_score','labels']\n",
    "    ndf = pd.DataFrame(np.array([text_a,text_b,RE,AR,BE,EE,num_score,labels]).transpose(), columns =columns)\n",
    "    return ndf\n",
    "\n",
    "def concat_and_save(pos,name, neg):\n",
    "    combo = pd.concat([pos,neg])\n",
    "    labels = list(combo['labels'])\n",
    "    labels = [int(x) for x in labels]\n",
    "    combo['labels'] = labels\n",
    "    combo = combo.sample(frac=1)\n",
    "    combo = combo.sample(frac=1)\n",
    "    combo = combo.sample(frac=1)\n",
    "    combo = combo.sample(frac=1)\n",
    "    combo.to_csv('data_split'+name +'.csv',index=None)\n",
    "    return combo"
   ]
  },
  {
   "cell_type": "code",
   "execution_count": null,
   "id": "5419f9b2",
   "metadata": {},
   "outputs": [],
   "source": [
    "norep.shape"
   ]
  },
  {
   "cell_type": "code",
   "execution_count": null,
   "id": "dc1e21b5",
   "metadata": {},
   "outputs": [],
   "source": [
    "neg = df[df['norm_z']<-1.5]\n",
    "neg = convert_raw_to_std(neg)\n",
    "neg.shape"
   ]
  },
  {
   "cell_type": "code",
   "execution_count": null,
   "id": "22f3ba5f",
   "metadata": {},
   "outputs": [],
   "source": [
    "non = pd.concat([norep,neg, ns])\n"
   ]
  },
  {
   "cell_type": "code",
   "execution_count": null,
   "id": "6e8dfd44",
   "metadata": {},
   "outputs": [],
   "source": [
    "non.shape"
   ]
  },
  {
   "cell_type": "markdown",
   "id": "3263ea84",
   "metadata": {},
   "source": [
    "# 30k pos, 30k neg"
   ]
  },
  {
   "cell_type": "code",
   "execution_count": null,
   "id": "228af89d",
   "metadata": {},
   "outputs": [],
   "source": [
    "df[df['norm_z']>1.68].shape"
   ]
  },
  {
   "cell_type": "code",
   "execution_count": null,
   "id": "636b1353",
   "metadata": {
    "scrolled": true
   },
   "outputs": [],
   "source": [
    "pos"
   ]
  },
  {
   "cell_type": "code",
   "execution_count": null,
   "id": "d6ef4de4",
   "metadata": {
    "scrolled": true
   },
   "outputs": [],
   "source": [
    "pos = df[df['norm_z']>1.68]\n",
    "pos = convert_raw_to_std(pos, label=1)\n",
    "neg = non.sample(n=pos.shape[0])\n",
    "combo = concat_and_save(pos,'60k_ns', neg)\n",
    "combo"
   ]
  },
  {
   "cell_type": "code",
   "execution_count": null,
   "id": "186928e2",
   "metadata": {},
   "outputs": [],
   "source": []
  },
  {
   "cell_type": "markdown",
   "id": "a9f093ba",
   "metadata": {},
   "source": [
    "# 40k pos, 40k neg"
   ]
  },
  {
   "cell_type": "code",
   "execution_count": null,
   "id": "323deb49",
   "metadata": {},
   "outputs": [],
   "source": [
    "df[df['norm_z']>1.53].shape"
   ]
  },
  {
   "cell_type": "code",
   "execution_count": null,
   "id": "a502f1e9",
   "metadata": {
    "scrolled": true
   },
   "outputs": [],
   "source": [
    "pos = df[df['norm_z']>1.53]\n",
    "pos = convert_raw_to_std(pos, label=1)\n",
    "neg = non.sample(n=pos.shape[0])\n",
    "combo = concat_and_save(pos,'80k_ns', neg)\n",
    "combo"
   ]
  },
  {
   "cell_type": "code",
   "execution_count": null,
   "id": "b09f2266",
   "metadata": {},
   "outputs": [],
   "source": []
  },
  {
   "cell_type": "markdown",
   "id": "ad37c2cd",
   "metadata": {},
   "source": [
    "# 50k pos, 50k neg"
   ]
  },
  {
   "cell_type": "code",
   "execution_count": null,
   "id": "738def1a",
   "metadata": {},
   "outputs": [],
   "source": [
    "df[df['norm_z']>1.4].shape"
   ]
  },
  {
   "cell_type": "code",
   "execution_count": null,
   "id": "56cabe58",
   "metadata": {
    "scrolled": true
   },
   "outputs": [],
   "source": [
    "pos = df[df['norm_z']>1.4]\n",
    "pos = convert_raw_to_std(pos, label=1)\n",
    "neg = non.sample(n=pos.shape[0])\n",
    "combo = concat_and_save(pos,'100k_ns', neg)\n",
    "combo"
   ]
  },
  {
   "cell_type": "code",
   "execution_count": null,
   "id": "e94280e7",
   "metadata": {},
   "outputs": [],
   "source": []
  },
  {
   "cell_type": "code",
   "execution_count": null,
   "id": "ea1df921",
   "metadata": {},
   "outputs": [],
   "source": []
  },
  {
   "cell_type": "markdown",
   "id": "cf719f50",
   "metadata": {},
   "source": [
    "# 60k pos, 60k neg"
   ]
  },
  {
   "cell_type": "code",
   "execution_count": null,
   "id": "b6309c06",
   "metadata": {},
   "outputs": [],
   "source": [
    "df[df['norm_z']>1.29].shape"
   ]
  },
  {
   "cell_type": "code",
   "execution_count": null,
   "id": "667e5219",
   "metadata": {
    "scrolled": true
   },
   "outputs": [],
   "source": [
    "pos = df[df['norm_z']>1.29]\n",
    "pos = convert_raw_to_std(pos, label=1)\n",
    "neg = non.sample(n=pos.shape[0])\n",
    "combo = concat_and_save(pos,'120k_ns', neg)\n",
    "combo"
   ]
  },
  {
   "cell_type": "code",
   "execution_count": null,
   "id": "41557d59",
   "metadata": {},
   "outputs": [],
   "source": []
  },
  {
   "cell_type": "markdown",
   "id": "a80b3a47",
   "metadata": {},
   "source": [
    "# 70k pos, 70k neg"
   ]
  },
  {
   "cell_type": "code",
   "execution_count": null,
   "id": "e3e6e3e3",
   "metadata": {},
   "outputs": [],
   "source": [
    "df[df['norm_z']>1.2].shape"
   ]
  },
  {
   "cell_type": "code",
   "execution_count": null,
   "id": "8125e98e",
   "metadata": {
    "scrolled": true
   },
   "outputs": [],
   "source": [
    "pos = df[df['norm_z']>1.2]\n",
    "pos = convert_raw_to_std(pos, label=1)\n",
    "neg = non.sample(n=pos.shape[0])\n",
    "combo = concat_and_save(pos,'140k_ns', neg)\n",
    "combo"
   ]
  },
  {
   "cell_type": "code",
   "execution_count": null,
   "id": "0ab44896",
   "metadata": {},
   "outputs": [],
   "source": []
  },
  {
   "cell_type": "markdown",
   "id": "b67772eb",
   "metadata": {},
   "source": [
    "# 90k pos, 90k neg\n"
   ]
  },
  {
   "cell_type": "code",
   "execution_count": null,
   "id": "8d1a70e5",
   "metadata": {},
   "outputs": [],
   "source": [
    "df[df['norm_z']>1].shape"
   ]
  },
  {
   "cell_type": "code",
   "execution_count": null,
   "id": "a6468564",
   "metadata": {
    "scrolled": true
   },
   "outputs": [],
   "source": [
    "pos = df[df['norm_z']>1]\n",
    "pos = convert_raw_to_std(pos, label=1)\n",
    "neg = non.sample(n=pos.shape[0])\n",
    "combo = concat_and_save(pos,'180k_ns', neg)\n",
    "combo"
   ]
  },
  {
   "cell_type": "code",
   "execution_count": null,
   "id": "02007fc5",
   "metadata": {},
   "outputs": [],
   "source": [
    "labels = list(combo['labels'])\n",
    "sum(labels)"
   ]
  },
  {
   "cell_type": "markdown",
   "id": "549d092f",
   "metadata": {},
   "source": [
    "# Mix with Synthetic Negative Sampling Examples"
   ]
  },
  {
   "cell_type": "code",
   "execution_count": null,
   "id": "d3fb6a67",
   "metadata": {
    "scrolled": true
   },
   "outputs": [],
   "source": [
    "import pandas as pd\n",
    "ns = pd.read_csv('negative_sampling20k.csv')\n",
    "ns.iloc[3000:3030]"
   ]
  },
  {
   "cell_type": "code",
   "execution_count": null,
   "id": "e09b1818",
   "metadata": {},
   "outputs": [],
   "source": [
    "ns.iloc[9019]['text_b']"
   ]
  },
  {
   "cell_type": "code",
   "execution_count": null,
   "id": "c8f6e22d",
   "metadata": {
    "scrolled": true
   },
   "outputs": [],
   "source": [
    "ns.iloc[15000:15030]"
   ]
  },
  {
   "cell_type": "markdown",
   "id": "acb522d5",
   "metadata": {},
   "source": [
    "# Curate Ablation test data for 4 dimensions"
   ]
  },
  {
   "cell_type": "code",
   "execution_count": null,
   "id": "65067a98",
   "metadata": {
    "scrolled": true
   },
   "outputs": [],
   "source": [
    "import pandas as pd\n",
    "df = pd.read_csv('total_raw_560k.csv')\n",
    "df"
   ]
  },
  {
   "cell_type": "code",
   "execution_count": null,
   "id": "e73891e3",
   "metadata": {
    "scrolled": true
   },
   "outputs": [],
   "source": [
    "neg = pd.read_csv('data_split80k.csv')\n",
    "neg = neg[neg['labels']==0]\n",
    "neg"
   ]
  },
  {
   "cell_type": "code",
   "execution_count": null,
   "id": "ccd6bd50",
   "metadata": {},
   "outputs": [],
   "source": [
    "# re\n",
    "RE = df[df['zRE']>1.7]\n",
    "RE= RE.sample(n=40000)\n",
    "RE.shape"
   ]
  },
  {
   "cell_type": "code",
   "execution_count": null,
   "id": "8468f1a0",
   "metadata": {},
   "outputs": [],
   "source": [
    "# ee\n",
    "EE = df[df['zEE']>1.8]\n",
    "EE= EE.sample(n=40000)\n",
    "EE.shape"
   ]
  },
  {
   "cell_type": "code",
   "execution_count": null,
   "id": "82a61b31",
   "metadata": {},
   "outputs": [],
   "source": [
    "# be\n",
    "BE = df[df['zBE']>1.4]\n",
    "BE= BE.sample(n=40000)\n",
    "BE.shape"
   ]
  },
  {
   "cell_type": "code",
   "execution_count": null,
   "id": "a92c12be",
   "metadata": {},
   "outputs": [],
   "source": [
    "# ae\n",
    "AE = df[df['zAE']>1.45]\n",
    "AE= AE.sample(n=40000)\n",
    "AE.shape"
   ]
  },
  {
   "cell_type": "code",
   "execution_count": null,
   "id": "09eed913",
   "metadata": {},
   "outputs": [],
   "source": [
    "import numpy as np\n",
    "def convert_raw_to_std(df,label=0):\n",
    "    text_a = list(df['Grandparent_body'])\n",
    "    text_b = list(df['Parent_body'])\n",
    "    RE = list(df['RE'])\n",
    "    AR = list(df['AE'])\n",
    "    BE = list(df['BE'])\n",
    "    EE = list(df['EE'])\n",
    "    num_score = list(df['num_score'])\n",
    "    labels = [label]*df.shape[0]\n",
    "    \n",
    "    columns = ['text_a','text_b','RE','AR','BE','EE','num_score','labels']\n",
    "    ndf = pd.DataFrame(np.array([text_a,text_b,RE,AR,BE,EE,num_score,labels]).transpose(), columns =columns)\n",
    "    return ndf\n",
    "\n",
    "def concat_and_save(pos,name, neg=neg):\n",
    "    pos = convert_raw_to_std(pos,label=1)\n",
    "    combo = pd.concat([pos,neg])\n",
    "    labels = list(combo['labels'])\n",
    "    labels = [int(x) for x in labels]\n",
    "    combo['labels'] = labels\n",
    "    combo = combo.sample(frac=1)\n",
    "    combo = combo.sample(frac=1)\n",
    "    combo = combo.sample(frac=1)\n",
    "    combo = combo.sample(frac=1)\n",
    "    combo.to_csv('june23_'+name +'.csv',index=None)\n",
    "    return combo"
   ]
  },
  {
   "cell_type": "code",
   "execution_count": null,
   "id": "f1560b23",
   "metadata": {
    "scrolled": true
   },
   "outputs": [],
   "source": [
    "\n",
    "combo = concat_and_save(RE,'RE80k')\n",
    "combo"
   ]
  },
  {
   "cell_type": "code",
   "execution_count": null,
   "id": "72e02a9c",
   "metadata": {
    "scrolled": true
   },
   "outputs": [],
   "source": [
    "combo = concat_and_save(BE,'BE80k')\n",
    "combo"
   ]
  },
  {
   "cell_type": "code",
   "execution_count": null,
   "id": "6ab8109d",
   "metadata": {
    "scrolled": true
   },
   "outputs": [],
   "source": [
    "combo = concat_and_save(AE,'AE80k')\n",
    "combo"
   ]
  },
  {
   "cell_type": "code",
   "execution_count": null,
   "id": "c6c1ec6b",
   "metadata": {
    "scrolled": true
   },
   "outputs": [],
   "source": [
    "combo = concat_and_save(EE,'EE80k')\n",
    "combo"
   ]
  },
  {
   "cell_type": "code",
   "execution_count": null,
   "id": "f99b4250",
   "metadata": {},
   "outputs": [],
   "source": []
  },
  {
   "cell_type": "code",
   "execution_count": 9,
   "id": "2ecd4841",
   "metadata": {
    "scrolled": true
   },
   "outputs": [
    {
     "data": {
      "text/html": [
       "<div>\n",
       "<style scoped>\n",
       "    .dataframe tbody tr th:only-of-type {\n",
       "        vertical-align: middle;\n",
       "    }\n",
       "\n",
       "    .dataframe tbody tr th {\n",
       "        vertical-align: top;\n",
       "    }\n",
       "\n",
       "    .dataframe thead th {\n",
       "        text-align: right;\n",
       "    }\n",
       "</style>\n",
       "<table border=\"1\" class=\"dataframe\">\n",
       "  <thead>\n",
       "    <tr style=\"text-align: right;\">\n",
       "      <th></th>\n",
       "      <th>text_a</th>\n",
       "      <th>text_b</th>\n",
       "      <th>RE</th>\n",
       "      <th>AR</th>\n",
       "      <th>BE</th>\n",
       "      <th>EE</th>\n",
       "      <th>num_score</th>\n",
       "      <th>labels</th>\n",
       "      <th>Unnamed: 0</th>\n",
       "      <th>toxicity</th>\n",
       "      <th>sentiment</th>\n",
       "      <th>engagingness_score</th>\n",
       "    </tr>\n",
       "  </thead>\n",
       "  <tbody>\n",
       "    <tr>\n",
       "      <th>0</th>\n",
       "      <td>Somehow 'Fuck the police proportionately to th...</td>\n",
       "      <td>Equal? With murderers, criminals, looters and ...</td>\n",
       "      <td>0.681818</td>\n",
       "      <td>0.760563</td>\n",
       "      <td>0.000000</td>\n",
       "      <td>0.852599</td>\n",
       "      <td>0.670260</td>\n",
       "      <td>1</td>\n",
       "      <td>NaN</td>\n",
       "      <td>NaN</td>\n",
       "      <td>NaN</td>\n",
       "      <td>NaN</td>\n",
       "    </tr>\n",
       "    <tr>\n",
       "      <th>1</th>\n",
       "      <td>Yah. Go ignore every school of economics excep...</td>\n",
       "      <td>Considering Austrian Economics evolved out of ...</td>\n",
       "      <td>0.553191</td>\n",
       "      <td>0.910000</td>\n",
       "      <td>0.560369</td>\n",
       "      <td>0.424952</td>\n",
       "      <td>0.652210</td>\n",
       "      <td>1</td>\n",
       "      <td>NaN</td>\n",
       "      <td>NaN</td>\n",
       "      <td>NaN</td>\n",
       "      <td>NaN</td>\n",
       "    </tr>\n",
       "    <tr>\n",
       "      <th>2</th>\n",
       "      <td>Sort of:\\n\\n[1](http://www.funis2cool.com/wp-c...</td>\n",
       "      <td>good, good, now we just need to see the goat o...</td>\n",
       "      <td>NaN</td>\n",
       "      <td>NaN</td>\n",
       "      <td>NaN</td>\n",
       "      <td>NaN</td>\n",
       "      <td>NaN</td>\n",
       "      <td>0</td>\n",
       "      <td>645.0</td>\n",
       "      <td>0.001007</td>\n",
       "      <td>0.0</td>\n",
       "      <td>0.0</td>\n",
       "    </tr>\n",
       "    <tr>\n",
       "      <th>3</th>\n",
       "      <td>Since you asked, it's now a challenge.</td>\n",
       "      <td>Good because I wouldn't know the answer.</td>\n",
       "      <td>0.622407</td>\n",
       "      <td>0.782051</td>\n",
       "      <td>0.867086</td>\n",
       "      <td>0.473416</td>\n",
       "      <td>0.681742</td>\n",
       "      <td>1</td>\n",
       "      <td>NaN</td>\n",
       "      <td>NaN</td>\n",
       "      <td>NaN</td>\n",
       "      <td>NaN</td>\n",
       "    </tr>\n",
       "    <tr>\n",
       "      <th>4</th>\n",
       "      <td>well, I'd say he's pretty good with the plot a...</td>\n",
       "      <td>So he's like George Lucas?</td>\n",
       "      <td>0.409639</td>\n",
       "      <td>0.775000</td>\n",
       "      <td>0.597614</td>\n",
       "      <td>0.906555</td>\n",
       "      <td>0.671038</td>\n",
       "      <td>1</td>\n",
       "      <td>NaN</td>\n",
       "      <td>NaN</td>\n",
       "      <td>NaN</td>\n",
       "      <td>NaN</td>\n",
       "    </tr>\n",
       "    <tr>\n",
       "      <th>...</th>\n",
       "      <td>...</td>\n",
       "      <td>...</td>\n",
       "      <td>...</td>\n",
       "      <td>...</td>\n",
       "      <td>...</td>\n",
       "      <td>...</td>\n",
       "      <td>...</td>\n",
       "      <td>...</td>\n",
       "      <td>...</td>\n",
       "      <td>...</td>\n",
       "      <td>...</td>\n",
       "      <td>...</td>\n",
       "    </tr>\n",
       "    <tr>\n",
       "      <th>80319</th>\n",
       "      <td>after Snoop Dog and Big Lebowski, i think we h...</td>\n",
       "      <td>Sorry, but Althusser confessed late in his lif...</td>\n",
       "      <td>0.601266</td>\n",
       "      <td>0.815217</td>\n",
       "      <td>0.585106</td>\n",
       "      <td>0.508709</td>\n",
       "      <td>0.658346</td>\n",
       "      <td>1</td>\n",
       "      <td>NaN</td>\n",
       "      <td>NaN</td>\n",
       "      <td>NaN</td>\n",
       "      <td>NaN</td>\n",
       "    </tr>\n",
       "    <tr>\n",
       "      <th>80320</th>\n",
       "      <td>Louis Riel is the dead man that I hate the mos...</td>\n",
       "      <td>Welcome to french immersion in Ontario. Our hi...</td>\n",
       "      <td>NaN</td>\n",
       "      <td>NaN</td>\n",
       "      <td>NaN</td>\n",
       "      <td>NaN</td>\n",
       "      <td>NaN</td>\n",
       "      <td>0</td>\n",
       "      <td>NaN</td>\n",
       "      <td>NaN</td>\n",
       "      <td>NaN</td>\n",
       "      <td>NaN</td>\n",
       "    </tr>\n",
       "    <tr>\n",
       "      <th>80321</th>\n",
       "      <td>There would still be huge bald spots with no d...</td>\n",
       "      <td>Considering that the number of specimens for t...</td>\n",
       "      <td>NaN</td>\n",
       "      <td>NaN</td>\n",
       "      <td>NaN</td>\n",
       "      <td>NaN</td>\n",
       "      <td>NaN</td>\n",
       "      <td>0</td>\n",
       "      <td>7576.0</td>\n",
       "      <td>0.001013</td>\n",
       "      <td>0.0</td>\n",
       "      <td>0.0</td>\n",
       "    </tr>\n",
       "    <tr>\n",
       "      <th>80322</th>\n",
       "      <td>What does this have to do with atheism?</td>\n",
       "      <td>Being atheist is the definition of being ratio...</td>\n",
       "      <td>0.932039</td>\n",
       "      <td>0.795455</td>\n",
       "      <td>0.000000</td>\n",
       "      <td>0.372502</td>\n",
       "      <td>0.658609</td>\n",
       "      <td>1</td>\n",
       "      <td>NaN</td>\n",
       "      <td>NaN</td>\n",
       "      <td>NaN</td>\n",
       "      <td>NaN</td>\n",
       "    </tr>\n",
       "    <tr>\n",
       "      <th>80323</th>\n",
       "      <td>The technology is just not there, and it is to...</td>\n",
       "      <td>So you can't upgrade to CFLs? Use the corporat...</td>\n",
       "      <td>0.601266</td>\n",
       "      <td>0.853448</td>\n",
       "      <td>0.585106</td>\n",
       "      <td>0.948921</td>\n",
       "      <td>0.768914</td>\n",
       "      <td>1</td>\n",
       "      <td>NaN</td>\n",
       "      <td>NaN</td>\n",
       "      <td>NaN</td>\n",
       "      <td>NaN</td>\n",
       "    </tr>\n",
       "  </tbody>\n",
       "</table>\n",
       "<p>80324 rows × 12 columns</p>\n",
       "</div>"
      ],
      "text/plain": [
       "                                                  text_a  \\\n",
       "0      Somehow 'Fuck the police proportionately to th...   \n",
       "1      Yah. Go ignore every school of economics excep...   \n",
       "2      Sort of:\\n\\n[1](http://www.funis2cool.com/wp-c...   \n",
       "3                 Since you asked, it's now a challenge.   \n",
       "4      well, I'd say he's pretty good with the plot a...   \n",
       "...                                                  ...   \n",
       "80319  after Snoop Dog and Big Lebowski, i think we h...   \n",
       "80320  Louis Riel is the dead man that I hate the mos...   \n",
       "80321  There would still be huge bald spots with no d...   \n",
       "80322            What does this have to do with atheism?   \n",
       "80323  The technology is just not there, and it is to...   \n",
       "\n",
       "                                                  text_b        RE        AR  \\\n",
       "0      Equal? With murderers, criminals, looters and ...  0.681818  0.760563   \n",
       "1      Considering Austrian Economics evolved out of ...  0.553191  0.910000   \n",
       "2      good, good, now we just need to see the goat o...       NaN       NaN   \n",
       "3               Good because I wouldn't know the answer.  0.622407  0.782051   \n",
       "4                             So he's like George Lucas?  0.409639  0.775000   \n",
       "...                                                  ...       ...       ...   \n",
       "80319  Sorry, but Althusser confessed late in his lif...  0.601266  0.815217   \n",
       "80320  Welcome to french immersion in Ontario. Our hi...       NaN       NaN   \n",
       "80321  Considering that the number of specimens for t...       NaN       NaN   \n",
       "80322  Being atheist is the definition of being ratio...  0.932039  0.795455   \n",
       "80323  So you can't upgrade to CFLs? Use the corporat...  0.601266  0.853448   \n",
       "\n",
       "             BE        EE  num_score  labels  Unnamed: 0  toxicity  sentiment  \\\n",
       "0      0.000000  0.852599   0.670260       1         NaN       NaN        NaN   \n",
       "1      0.560369  0.424952   0.652210       1         NaN       NaN        NaN   \n",
       "2           NaN       NaN        NaN       0       645.0  0.001007        0.0   \n",
       "3      0.867086  0.473416   0.681742       1         NaN       NaN        NaN   \n",
       "4      0.597614  0.906555   0.671038       1         NaN       NaN        NaN   \n",
       "...         ...       ...        ...     ...         ...       ...        ...   \n",
       "80319  0.585106  0.508709   0.658346       1         NaN       NaN        NaN   \n",
       "80320       NaN       NaN        NaN       0         NaN       NaN        NaN   \n",
       "80321       NaN       NaN        NaN       0      7576.0  0.001013        0.0   \n",
       "80322  0.000000  0.372502   0.658609       1         NaN       NaN        NaN   \n",
       "80323  0.585106  0.948921   0.768914       1         NaN       NaN        NaN   \n",
       "\n",
       "       engagingness_score  \n",
       "0                     NaN  \n",
       "1                     NaN  \n",
       "2                     0.0  \n",
       "3                     NaN  \n",
       "4                     NaN  \n",
       "...                   ...  \n",
       "80319                 NaN  \n",
       "80320                 NaN  \n",
       "80321                 0.0  \n",
       "80322                 NaN  \n",
       "80323                 NaN  \n",
       "\n",
       "[80324 rows x 12 columns]"
      ]
     },
     "execution_count": 9,
     "metadata": {},
     "output_type": "execute_result"
    }
   ],
   "source": [
    "import pandas as pd\n",
    "df = pd.read_csv('data_split80k.csv')\n",
    "df"
   ]
  },
  {
   "cell_type": "code",
   "execution_count": 10,
   "id": "20a0d7fb",
   "metadata": {
    "scrolled": true
   },
   "outputs": [
    {
     "data": {
      "text/html": [
       "<div>\n",
       "<style scoped>\n",
       "    .dataframe tbody tr th:only-of-type {\n",
       "        vertical-align: middle;\n",
       "    }\n",
       "\n",
       "    .dataframe tbody tr th {\n",
       "        vertical-align: top;\n",
       "    }\n",
       "\n",
       "    .dataframe thead th {\n",
       "        text-align: right;\n",
       "    }\n",
       "</style>\n",
       "<table border=\"1\" class=\"dataframe\">\n",
       "  <thead>\n",
       "    <tr style=\"text-align: right;\">\n",
       "      <th></th>\n",
       "      <th>text_a</th>\n",
       "      <th>text_b</th>\n",
       "      <th>RE</th>\n",
       "      <th>AR</th>\n",
       "      <th>BE</th>\n",
       "      <th>EE</th>\n",
       "      <th>num_score</th>\n",
       "      <th>labels</th>\n",
       "      <th>Unnamed: 0</th>\n",
       "      <th>toxicity</th>\n",
       "      <th>sentiment</th>\n",
       "      <th>engagingness_score</th>\n",
       "    </tr>\n",
       "  </thead>\n",
       "  <tbody>\n",
       "    <tr>\n",
       "      <th>20</th>\n",
       "      <td>Who's smarter? Him or Mr. Fantastic?</td>\n",
       "      <td>well..it's been what, 75 years? and Luthor has...</td>\n",
       "      <td>0.911392</td>\n",
       "      <td>0.858268</td>\n",
       "      <td>0.953345</td>\n",
       "      <td>0.574408</td>\n",
       "      <td>0.836701</td>\n",
       "      <td>1</td>\n",
       "      <td>NaN</td>\n",
       "      <td>NaN</td>\n",
       "      <td>NaN</td>\n",
       "      <td>NaN</td>\n",
       "    </tr>\n",
       "    <tr>\n",
       "      <th>40</th>\n",
       "      <td>Yeah I mean .... pretty much all schools _alre...</td>\n",
       "      <td>I always thought that was strange when I was d...</td>\n",
       "      <td>0.704225</td>\n",
       "      <td>0.800000</td>\n",
       "      <td>0.949367</td>\n",
       "      <td>0.872782</td>\n",
       "      <td>0.814031</td>\n",
       "      <td>1</td>\n",
       "      <td>NaN</td>\n",
       "      <td>NaN</td>\n",
       "      <td>NaN</td>\n",
       "      <td>NaN</td>\n",
       "    </tr>\n",
       "    <tr>\n",
       "      <th>52</th>\n",
       "      <td>How long till they get Prop 8'd?\\r\\n\\r\\nIt is ...</td>\n",
       "      <td>The purpose of a constitutional republic is to...</td>\n",
       "      <td>0.814159</td>\n",
       "      <td>0.660377</td>\n",
       "      <td>0.936136</td>\n",
       "      <td>0.976531</td>\n",
       "      <td>0.825536</td>\n",
       "      <td>1</td>\n",
       "      <td>NaN</td>\n",
       "      <td>NaN</td>\n",
       "      <td>NaN</td>\n",
       "      <td>NaN</td>\n",
       "    </tr>\n",
       "    <tr>\n",
       "      <th>72</th>\n",
       "      <td>Luxury? Ha. I don't live in the US. I'm not al...</td>\n",
       "      <td>I live in the middle of a large city and don't...</td>\n",
       "      <td>0.972763</td>\n",
       "      <td>0.730159</td>\n",
       "      <td>0.852273</td>\n",
       "      <td>0.579074</td>\n",
       "      <td>0.802858</td>\n",
       "      <td>1</td>\n",
       "      <td>NaN</td>\n",
       "      <td>NaN</td>\n",
       "      <td>NaN</td>\n",
       "      <td>NaN</td>\n",
       "    </tr>\n",
       "    <tr>\n",
       "      <th>119</th>\n",
       "      <td>Where you from dude?</td>\n",
       "      <td>I'm living in Kuwait right now. It's nowhere n...</td>\n",
       "      <td>0.810811</td>\n",
       "      <td>0.746269</td>\n",
       "      <td>0.852273</td>\n",
       "      <td>0.835024</td>\n",
       "      <td>0.811122</td>\n",
       "      <td>1</td>\n",
       "      <td>NaN</td>\n",
       "      <td>NaN</td>\n",
       "      <td>NaN</td>\n",
       "      <td>NaN</td>\n",
       "    </tr>\n",
       "    <tr>\n",
       "      <th>...</th>\n",
       "      <td>...</td>\n",
       "      <td>...</td>\n",
       "      <td>...</td>\n",
       "      <td>...</td>\n",
       "      <td>...</td>\n",
       "      <td>...</td>\n",
       "      <td>...</td>\n",
       "      <td>...</td>\n",
       "      <td>...</td>\n",
       "      <td>...</td>\n",
       "      <td>...</td>\n",
       "      <td>...</td>\n",
       "    </tr>\n",
       "    <tr>\n",
       "      <th>80198</th>\n",
       "      <td>Kids who were born *after* N64 are 13 now...</td>\n",
       "      <td>I had to entertain a 10 year old, and we were ...</td>\n",
       "      <td>0.663265</td>\n",
       "      <td>0.894118</td>\n",
       "      <td>0.983686</td>\n",
       "      <td>0.776332</td>\n",
       "      <td>0.814607</td>\n",
       "      <td>1</td>\n",
       "      <td>NaN</td>\n",
       "      <td>NaN</td>\n",
       "      <td>NaN</td>\n",
       "      <td>NaN</td>\n",
       "    </tr>\n",
       "    <tr>\n",
       "      <th>80218</th>\n",
       "      <td>Awesome. Dawkins is my hero.\\n\\nIt's shocking ...</td>\n",
       "      <td>He makes a great point, and I agree with you, ...</td>\n",
       "      <td>0.892587</td>\n",
       "      <td>0.819149</td>\n",
       "      <td>0.979769</td>\n",
       "      <td>0.908725</td>\n",
       "      <td>0.894988</td>\n",
       "      <td>1</td>\n",
       "      <td>NaN</td>\n",
       "      <td>NaN</td>\n",
       "      <td>NaN</td>\n",
       "      <td>NaN</td>\n",
       "    </tr>\n",
       "    <tr>\n",
       "      <th>80239</th>\n",
       "      <td>consider a situation where I might not say \"th...</td>\n",
       "      <td>My teenage son offers the following;\\n\\nIs the...</td>\n",
       "      <td>0.847458</td>\n",
       "      <td>0.763889</td>\n",
       "      <td>0.585106</td>\n",
       "      <td>0.885274</td>\n",
       "      <td>0.806981</td>\n",
       "      <td>1</td>\n",
       "      <td>NaN</td>\n",
       "      <td>NaN</td>\n",
       "      <td>NaN</td>\n",
       "      <td>NaN</td>\n",
       "    </tr>\n",
       "    <tr>\n",
       "      <th>80267</th>\n",
       "      <td>So how do you show that men are equally fit pa...</td>\n",
       "      <td>You show that a man is a fit parent by contras...</td>\n",
       "      <td>0.946970</td>\n",
       "      <td>0.881119</td>\n",
       "      <td>0.913621</td>\n",
       "      <td>0.772109</td>\n",
       "      <td>0.895145</td>\n",
       "      <td>1</td>\n",
       "      <td>NaN</td>\n",
       "      <td>NaN</td>\n",
       "      <td>NaN</td>\n",
       "      <td>NaN</td>\n",
       "    </tr>\n",
       "    <tr>\n",
       "      <th>80291</th>\n",
       "      <td>soy sauce in mexican food huh? riiiight!</td>\n",
       "      <td>Uh, yeah... there was quite a bit of Japanese ...</td>\n",
       "      <td>0.774194</td>\n",
       "      <td>0.863636</td>\n",
       "      <td>0.673344</td>\n",
       "      <td>0.775682</td>\n",
       "      <td>0.802485</td>\n",
       "      <td>1</td>\n",
       "      <td>NaN</td>\n",
       "      <td>NaN</td>\n",
       "      <td>NaN</td>\n",
       "      <td>NaN</td>\n",
       "    </tr>\n",
       "  </tbody>\n",
       "</table>\n",
       "<p>2275 rows × 12 columns</p>\n",
       "</div>"
      ],
      "text/plain": [
       "                                                  text_a  \\\n",
       "20                  Who's smarter? Him or Mr. Fantastic?   \n",
       "40     Yeah I mean .... pretty much all schools _alre...   \n",
       "52     How long till they get Prop 8'd?\\r\\n\\r\\nIt is ...   \n",
       "72     Luxury? Ha. I don't live in the US. I'm not al...   \n",
       "119                                 Where you from dude?   \n",
       "...                                                  ...   \n",
       "80198       Kids who were born *after* N64 are 13 now...   \n",
       "80218  Awesome. Dawkins is my hero.\\n\\nIt's shocking ...   \n",
       "80239  consider a situation where I might not say \"th...   \n",
       "80267  So how do you show that men are equally fit pa...   \n",
       "80291           soy sauce in mexican food huh? riiiight!   \n",
       "\n",
       "                                                  text_b        RE        AR  \\\n",
       "20     well..it's been what, 75 years? and Luthor has...  0.911392  0.858268   \n",
       "40     I always thought that was strange when I was d...  0.704225  0.800000   \n",
       "52     The purpose of a constitutional republic is to...  0.814159  0.660377   \n",
       "72     I live in the middle of a large city and don't...  0.972763  0.730159   \n",
       "119    I'm living in Kuwait right now. It's nowhere n...  0.810811  0.746269   \n",
       "...                                                  ...       ...       ...   \n",
       "80198  I had to entertain a 10 year old, and we were ...  0.663265  0.894118   \n",
       "80218  He makes a great point, and I agree with you, ...  0.892587  0.819149   \n",
       "80239  My teenage son offers the following;\\n\\nIs the...  0.847458  0.763889   \n",
       "80267  You show that a man is a fit parent by contras...  0.946970  0.881119   \n",
       "80291  Uh, yeah... there was quite a bit of Japanese ...  0.774194  0.863636   \n",
       "\n",
       "             BE        EE  num_score  labels  Unnamed: 0  toxicity  sentiment  \\\n",
       "20     0.953345  0.574408   0.836701       1         NaN       NaN        NaN   \n",
       "40     0.949367  0.872782   0.814031       1         NaN       NaN        NaN   \n",
       "52     0.936136  0.976531   0.825536       1         NaN       NaN        NaN   \n",
       "72     0.852273  0.579074   0.802858       1         NaN       NaN        NaN   \n",
       "119    0.852273  0.835024   0.811122       1         NaN       NaN        NaN   \n",
       "...         ...       ...        ...     ...         ...       ...        ...   \n",
       "80198  0.983686  0.776332   0.814607       1         NaN       NaN        NaN   \n",
       "80218  0.979769  0.908725   0.894988       1         NaN       NaN        NaN   \n",
       "80239  0.585106  0.885274   0.806981       1         NaN       NaN        NaN   \n",
       "80267  0.913621  0.772109   0.895145       1         NaN       NaN        NaN   \n",
       "80291  0.673344  0.775682   0.802485       1         NaN       NaN        NaN   \n",
       "\n",
       "       engagingness_score  \n",
       "20                    NaN  \n",
       "40                    NaN  \n",
       "52                    NaN  \n",
       "72                    NaN  \n",
       "119                   NaN  \n",
       "...                   ...  \n",
       "80198                 NaN  \n",
       "80218                 NaN  \n",
       "80239                 NaN  \n",
       "80267                 NaN  \n",
       "80291                 NaN  \n",
       "\n",
       "[2275 rows x 12 columns]"
      ]
     },
     "execution_count": 10,
     "metadata": {},
     "output_type": "execute_result"
    }
   ],
   "source": [
    "pos =df[df['num_score']>0.8]\n",
    "pos"
   ]
  },
  {
   "cell_type": "code",
   "execution_count": 11,
   "id": "3f5477e0",
   "metadata": {},
   "outputs": [],
   "source": [
    "neg = df[df['labels']==0]\n"
   ]
  },
  {
   "cell_type": "code",
   "execution_count": 13,
   "id": "cb2f76a0",
   "metadata": {
    "scrolled": true
   },
   "outputs": [
    {
     "data": {
      "text/html": [
       "<div>\n",
       "<style scoped>\n",
       "    .dataframe tbody tr th:only-of-type {\n",
       "        vertical-align: middle;\n",
       "    }\n",
       "\n",
       "    .dataframe tbody tr th {\n",
       "        vertical-align: top;\n",
       "    }\n",
       "\n",
       "    .dataframe thead th {\n",
       "        text-align: right;\n",
       "    }\n",
       "</style>\n",
       "<table border=\"1\" class=\"dataframe\">\n",
       "  <thead>\n",
       "    <tr style=\"text-align: right;\">\n",
       "      <th></th>\n",
       "      <th>text_a</th>\n",
       "      <th>text_b</th>\n",
       "      <th>RE</th>\n",
       "      <th>AR</th>\n",
       "      <th>BE</th>\n",
       "      <th>EE</th>\n",
       "      <th>num_score</th>\n",
       "      <th>labels</th>\n",
       "      <th>Unnamed: 0</th>\n",
       "      <th>toxicity</th>\n",
       "      <th>sentiment</th>\n",
       "      <th>engagingness_score</th>\n",
       "    </tr>\n",
       "  </thead>\n",
       "  <tbody>\n",
       "    <tr>\n",
       "      <th>35039</th>\n",
       "      <td>The problem really is developing nations with ...</td>\n",
       "      <td>No i'd say the problem is exactly the opposite...</td>\n",
       "      <td>0.802817</td>\n",
       "      <td>0.937931</td>\n",
       "      <td>0.958235</td>\n",
       "      <td>0.600995</td>\n",
       "      <td>0.833583</td>\n",
       "      <td>1</td>\n",
       "      <td>NaN</td>\n",
       "      <td>NaN</td>\n",
       "      <td>NaN</td>\n",
       "      <td>NaN</td>\n",
       "    </tr>\n",
       "    <tr>\n",
       "      <th>77406</th>\n",
       "      <td>Which is also a scientific theory.  Did anyone...</td>\n",
       "      <td>I did click the link, and did my best to read ...</td>\n",
       "      <td>0.883333</td>\n",
       "      <td>0.864000</td>\n",
       "      <td>0.919255</td>\n",
       "      <td>0.781556</td>\n",
       "      <td>0.871030</td>\n",
       "      <td>1</td>\n",
       "      <td>NaN</td>\n",
       "      <td>NaN</td>\n",
       "      <td>NaN</td>\n",
       "      <td>NaN</td>\n",
       "    </tr>\n",
       "    <tr>\n",
       "      <th>61149</th>\n",
       "      <td>I for one welcome our leg humping overlords.</td>\n",
       "      <td>Can someone please tell me the origin of that ...</td>\n",
       "      <td>0.817391</td>\n",
       "      <td>0.833333</td>\n",
       "      <td>0.900000</td>\n",
       "      <td>0.644493</td>\n",
       "      <td>0.805962</td>\n",
       "      <td>1</td>\n",
       "      <td>NaN</td>\n",
       "      <td>NaN</td>\n",
       "      <td>NaN</td>\n",
       "      <td>NaN</td>\n",
       "    </tr>\n",
       "    <tr>\n",
       "      <th>66123</th>\n",
       "      <td>Well I don't use Windows that much so I didn't...</td>\n",
       "      <td>I can't get my Intel wireless chipset to work ...</td>\n",
       "      <td>0.681818</td>\n",
       "      <td>0.905556</td>\n",
       "      <td>0.657895</td>\n",
       "      <td>0.882682</td>\n",
       "      <td>0.807513</td>\n",
       "      <td>1</td>\n",
       "      <td>NaN</td>\n",
       "      <td>NaN</td>\n",
       "      <td>NaN</td>\n",
       "      <td>NaN</td>\n",
       "    </tr>\n",
       "    <tr>\n",
       "      <th>59340</th>\n",
       "      <td>Yeah she is, but I'm not entirely sure she mea...</td>\n",
       "      <td>What she meant to say is irrelevant.  The impo...</td>\n",
       "      <td>0.999303</td>\n",
       "      <td>0.632653</td>\n",
       "      <td>0.909678</td>\n",
       "      <td>0.706236</td>\n",
       "      <td>0.814636</td>\n",
       "      <td>1</td>\n",
       "      <td>NaN</td>\n",
       "      <td>NaN</td>\n",
       "      <td>NaN</td>\n",
       "      <td>NaN</td>\n",
       "    </tr>\n",
       "    <tr>\n",
       "      <th>...</th>\n",
       "      <td>...</td>\n",
       "      <td>...</td>\n",
       "      <td>...</td>\n",
       "      <td>...</td>\n",
       "      <td>...</td>\n",
       "      <td>...</td>\n",
       "      <td>...</td>\n",
       "      <td>...</td>\n",
       "      <td>...</td>\n",
       "      <td>...</td>\n",
       "      <td>...</td>\n",
       "      <td>...</td>\n",
       "    </tr>\n",
       "    <tr>\n",
       "      <th>27864</th>\n",
       "      <td>Oh god what have I done? *deletes porn*\\r\\n\\r\\...</td>\n",
       "      <td>You need something like Googles Mail Goggles t...</td>\n",
       "      <td>NaN</td>\n",
       "      <td>NaN</td>\n",
       "      <td>NaN</td>\n",
       "      <td>NaN</td>\n",
       "      <td>NaN</td>\n",
       "      <td>0</td>\n",
       "      <td>NaN</td>\n",
       "      <td>NaN</td>\n",
       "      <td>NaN</td>\n",
       "      <td>NaN</td>\n",
       "    </tr>\n",
       "    <tr>\n",
       "      <th>64745</th>\n",
       "      <td>It also shows me that morality doesn't need to...</td>\n",
       "      <td>What is morality then?  Morals are mere opinions.</td>\n",
       "      <td>0.267442</td>\n",
       "      <td>0.320000</td>\n",
       "      <td>0.000000</td>\n",
       "      <td>0.149373</td>\n",
       "      <td>0.229008</td>\n",
       "      <td>0</td>\n",
       "      <td>NaN</td>\n",
       "      <td>NaN</td>\n",
       "      <td>NaN</td>\n",
       "      <td>NaN</td>\n",
       "    </tr>\n",
       "    <tr>\n",
       "      <th>2675</th>\n",
       "      <td>In her sister?</td>\n",
       "      <td>In her uncle?</td>\n",
       "      <td>NaN</td>\n",
       "      <td>NaN</td>\n",
       "      <td>NaN</td>\n",
       "      <td>NaN</td>\n",
       "      <td>NaN</td>\n",
       "      <td>0</td>\n",
       "      <td>11271.0</td>\n",
       "      <td>0.001536</td>\n",
       "      <td>0.0</td>\n",
       "      <td>0.0</td>\n",
       "    </tr>\n",
       "    <tr>\n",
       "      <th>7503</th>\n",
       "      <td>At least the poster had the sense to scribble ...</td>\n",
       "      <td>poster sez: more like which social networking ...</td>\n",
       "      <td>0.337838</td>\n",
       "      <td>0.413793</td>\n",
       "      <td>0.000000</td>\n",
       "      <td>0.171802</td>\n",
       "      <td>0.288722</td>\n",
       "      <td>0</td>\n",
       "      <td>NaN</td>\n",
       "      <td>NaN</td>\n",
       "      <td>NaN</td>\n",
       "      <td>NaN</td>\n",
       "    </tr>\n",
       "    <tr>\n",
       "      <th>28869</th>\n",
       "      <td>I would think so. In that way you could have a...</td>\n",
       "      <td>[Yes](http://img2.timeinc.net/people/i/2008/ga...</td>\n",
       "      <td>0.343750</td>\n",
       "      <td>0.181818</td>\n",
       "      <td>0.709279</td>\n",
       "      <td>0.131470</td>\n",
       "      <td>0.293065</td>\n",
       "      <td>0</td>\n",
       "      <td>NaN</td>\n",
       "      <td>NaN</td>\n",
       "      <td>NaN</td>\n",
       "      <td>NaN</td>\n",
       "    </tr>\n",
       "  </tbody>\n",
       "</table>\n",
       "<p>200 rows × 12 columns</p>\n",
       "</div>"
      ],
      "text/plain": [
       "                                                  text_a  \\\n",
       "35039  The problem really is developing nations with ...   \n",
       "77406  Which is also a scientific theory.  Did anyone...   \n",
       "61149       I for one welcome our leg humping overlords.   \n",
       "66123  Well I don't use Windows that much so I didn't...   \n",
       "59340  Yeah she is, but I'm not entirely sure she mea...   \n",
       "...                                                  ...   \n",
       "27864  Oh god what have I done? *deletes porn*\\r\\n\\r\\...   \n",
       "64745  It also shows me that morality doesn't need to...   \n",
       "2675                                      In her sister?   \n",
       "7503   At least the poster had the sense to scribble ...   \n",
       "28869  I would think so. In that way you could have a...   \n",
       "\n",
       "                                                  text_b        RE        AR  \\\n",
       "35039  No i'd say the problem is exactly the opposite...  0.802817  0.937931   \n",
       "77406  I did click the link, and did my best to read ...  0.883333  0.864000   \n",
       "61149  Can someone please tell me the origin of that ...  0.817391  0.833333   \n",
       "66123  I can't get my Intel wireless chipset to work ...  0.681818  0.905556   \n",
       "59340  What she meant to say is irrelevant.  The impo...  0.999303  0.632653   \n",
       "...                                                  ...       ...       ...   \n",
       "27864  You need something like Googles Mail Goggles t...       NaN       NaN   \n",
       "64745  What is morality then?  Morals are mere opinions.  0.267442  0.320000   \n",
       "2675                                       In her uncle?       NaN       NaN   \n",
       "7503   poster sez: more like which social networking ...  0.337838  0.413793   \n",
       "28869  [Yes](http://img2.timeinc.net/people/i/2008/ga...  0.343750  0.181818   \n",
       "\n",
       "             BE        EE  num_score  labels  Unnamed: 0  toxicity  sentiment  \\\n",
       "35039  0.958235  0.600995   0.833583       1         NaN       NaN        NaN   \n",
       "77406  0.919255  0.781556   0.871030       1         NaN       NaN        NaN   \n",
       "61149  0.900000  0.644493   0.805962       1         NaN       NaN        NaN   \n",
       "66123  0.657895  0.882682   0.807513       1         NaN       NaN        NaN   \n",
       "59340  0.909678  0.706236   0.814636       1         NaN       NaN        NaN   \n",
       "...         ...       ...        ...     ...         ...       ...        ...   \n",
       "27864       NaN       NaN        NaN       0         NaN       NaN        NaN   \n",
       "64745  0.000000  0.149373   0.229008       0         NaN       NaN        NaN   \n",
       "2675        NaN       NaN        NaN       0     11271.0  0.001536        0.0   \n",
       "7503   0.000000  0.171802   0.288722       0         NaN       NaN        NaN   \n",
       "28869  0.709279  0.131470   0.293065       0         NaN       NaN        NaN   \n",
       "\n",
       "       engagingness_score  \n",
       "35039                 NaN  \n",
       "77406                 NaN  \n",
       "61149                 NaN  \n",
       "66123                 NaN  \n",
       "59340                 NaN  \n",
       "...                   ...  \n",
       "27864                 NaN  \n",
       "64745                 NaN  \n",
       "2675                  0.0  \n",
       "7503                  NaN  \n",
       "28869                 NaN  \n",
       "\n",
       "[200 rows x 12 columns]"
      ]
     },
     "execution_count": 13,
     "metadata": {},
     "output_type": "execute_result"
    }
   ],
   "source": [
    "sp = pd.concat([pos.sample(n=100), neg.sample(n=100)])\n",
    "sp"
   ]
  },
  {
   "cell_type": "code",
   "execution_count": 14,
   "id": "1602902b",
   "metadata": {
    "scrolled": true
   },
   "outputs": [],
   "source": [
    "sp.drop(['Unnamed: 0', 'toxicity', \n",
    "                'sentiment', 'sentiment', 'RE','AR','BE','EE','num_score'], axis=1, inplace=True)"
   ]
  },
  {
   "cell_type": "code",
   "execution_count": 15,
   "id": "86392a72",
   "metadata": {
    "scrolled": true
   },
   "outputs": [
    {
     "data": {
      "text/html": [
       "<div>\n",
       "<style scoped>\n",
       "    .dataframe tbody tr th:only-of-type {\n",
       "        vertical-align: middle;\n",
       "    }\n",
       "\n",
       "    .dataframe tbody tr th {\n",
       "        vertical-align: top;\n",
       "    }\n",
       "\n",
       "    .dataframe thead th {\n",
       "        text-align: right;\n",
       "    }\n",
       "</style>\n",
       "<table border=\"1\" class=\"dataframe\">\n",
       "  <thead>\n",
       "    <tr style=\"text-align: right;\">\n",
       "      <th></th>\n",
       "      <th>text_a</th>\n",
       "      <th>text_b</th>\n",
       "      <th>labels</th>\n",
       "    </tr>\n",
       "  </thead>\n",
       "  <tbody>\n",
       "    <tr>\n",
       "      <th>35039</th>\n",
       "      <td>The problem really is developing nations with ...</td>\n",
       "      <td>No i'd say the problem is exactly the opposite...</td>\n",
       "      <td>1</td>\n",
       "    </tr>\n",
       "    <tr>\n",
       "      <th>77406</th>\n",
       "      <td>Which is also a scientific theory.  Did anyone...</td>\n",
       "      <td>I did click the link, and did my best to read ...</td>\n",
       "      <td>1</td>\n",
       "    </tr>\n",
       "    <tr>\n",
       "      <th>61149</th>\n",
       "      <td>I for one welcome our leg humping overlords.</td>\n",
       "      <td>Can someone please tell me the origin of that ...</td>\n",
       "      <td>1</td>\n",
       "    </tr>\n",
       "    <tr>\n",
       "      <th>66123</th>\n",
       "      <td>Well I don't use Windows that much so I didn't...</td>\n",
       "      <td>I can't get my Intel wireless chipset to work ...</td>\n",
       "      <td>1</td>\n",
       "    </tr>\n",
       "    <tr>\n",
       "      <th>59340</th>\n",
       "      <td>Yeah she is, but I'm not entirely sure she mea...</td>\n",
       "      <td>What she meant to say is irrelevant.  The impo...</td>\n",
       "      <td>1</td>\n",
       "    </tr>\n",
       "    <tr>\n",
       "      <th>...</th>\n",
       "      <td>...</td>\n",
       "      <td>...</td>\n",
       "      <td>...</td>\n",
       "    </tr>\n",
       "    <tr>\n",
       "      <th>27864</th>\n",
       "      <td>Oh god what have I done? *deletes porn*\\r\\n\\r\\...</td>\n",
       "      <td>You need something like Googles Mail Goggles t...</td>\n",
       "      <td>0</td>\n",
       "    </tr>\n",
       "    <tr>\n",
       "      <th>64745</th>\n",
       "      <td>It also shows me that morality doesn't need to...</td>\n",
       "      <td>What is morality then?  Morals are mere opinions.</td>\n",
       "      <td>0</td>\n",
       "    </tr>\n",
       "    <tr>\n",
       "      <th>2675</th>\n",
       "      <td>In her sister?</td>\n",
       "      <td>In her uncle?</td>\n",
       "      <td>0</td>\n",
       "    </tr>\n",
       "    <tr>\n",
       "      <th>7503</th>\n",
       "      <td>At least the poster had the sense to scribble ...</td>\n",
       "      <td>poster sez: more like which social networking ...</td>\n",
       "      <td>0</td>\n",
       "    </tr>\n",
       "    <tr>\n",
       "      <th>28869</th>\n",
       "      <td>I would think so. In that way you could have a...</td>\n",
       "      <td>[Yes](http://img2.timeinc.net/people/i/2008/ga...</td>\n",
       "      <td>0</td>\n",
       "    </tr>\n",
       "  </tbody>\n",
       "</table>\n",
       "<p>200 rows × 3 columns</p>\n",
       "</div>"
      ],
      "text/plain": [
       "                                                  text_a  \\\n",
       "35039  The problem really is developing nations with ...   \n",
       "77406  Which is also a scientific theory.  Did anyone...   \n",
       "61149       I for one welcome our leg humping overlords.   \n",
       "66123  Well I don't use Windows that much so I didn't...   \n",
       "59340  Yeah she is, but I'm not entirely sure she mea...   \n",
       "...                                                  ...   \n",
       "27864  Oh god what have I done? *deletes porn*\\r\\n\\r\\...   \n",
       "64745  It also shows me that morality doesn't need to...   \n",
       "2675                                      In her sister?   \n",
       "7503   At least the poster had the sense to scribble ...   \n",
       "28869  I would think so. In that way you could have a...   \n",
       "\n",
       "                                                  text_b  labels  \n",
       "35039  No i'd say the problem is exactly the opposite...       1  \n",
       "77406  I did click the link, and did my best to read ...       1  \n",
       "61149  Can someone please tell me the origin of that ...       1  \n",
       "66123  I can't get my Intel wireless chipset to work ...       1  \n",
       "59340  What she meant to say is irrelevant.  The impo...       1  \n",
       "...                                                  ...     ...  \n",
       "27864  You need something like Googles Mail Goggles t...       0  \n",
       "64745  What is morality then?  Morals are mere opinions.       0  \n",
       "2675                                       In her uncle?       0  \n",
       "7503   poster sez: more like which social networking ...       0  \n",
       "28869  [Yes](http://img2.timeinc.net/people/i/2008/ga...       0  \n",
       "\n",
       "[200 rows x 3 columns]"
      ]
     },
     "execution_count": 15,
     "metadata": {},
     "output_type": "execute_result"
    }
   ],
   "source": [
    "del sp['engagingness_score']\n",
    "sp"
   ]
  },
  {
   "cell_type": "code",
   "execution_count": 16,
   "id": "d1e41911",
   "metadata": {},
   "outputs": [],
   "source": [
    "sp.to_csv('../submission/sample_train.csv',index=None)"
   ]
  },
  {
   "cell_type": "code",
   "execution_count": null,
   "id": "adeeaa7c",
   "metadata": {},
   "outputs": [],
   "source": []
  }
 ],
 "metadata": {
  "kernelspec": {
   "display_name": "Python 3 (ipykernel)",
   "language": "python",
   "name": "python3"
  },
  "language_info": {
   "codemirror_mode": {
    "name": "ipython",
    "version": 3
   },
   "file_extension": ".py",
   "mimetype": "text/x-python",
   "name": "python",
   "nbconvert_exporter": "python",
   "pygments_lexer": "ipython3",
   "version": "3.8.13"
  }
 },
 "nbformat": 4,
 "nbformat_minor": 5
}
